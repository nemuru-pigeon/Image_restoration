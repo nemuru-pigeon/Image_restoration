{
 "cells": [
  {
   "cell_type": "markdown",
   "id": "77887f19-1d33-444b-9537-59d5a496018e",
   "metadata": {},
   "source": [
    "Gaussian noise\n",
    "We will use different filters, including median filters, mean filters, Gaussian filters, bilateral filters, inverse filters and Wiener filters to try to remove the noise. For each filter we will apply different window sizes and compare their results. For the result, we will use PSNR to measure the restoration quality. And we will discuss the result also based on the grayscale histogram and spectrum. "
   ]
  },
  {
   "cell_type": "code",
   "execution_count": null,
   "id": "7a6da8cb-13a0-4a08-b4a2-d2fea7e8bd3e",
   "metadata": {},
   "outputs": [],
   "source": []
  }
 ],
 "metadata": {
  "kernelspec": {
   "display_name": "MATLAB Kernel",
   "language": "matlab",
   "name": "jupyter_matlab_kernel"
  },
  "language_info": {
   "file_extension": ".m",
   "mimetype": "text/x-matlab",
   "name": "matlab"
  }
 },
 "nbformat": 4,
 "nbformat_minor": 5
}
